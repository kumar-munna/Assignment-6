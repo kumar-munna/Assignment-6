{
 "cells": [
  {
   "cell_type": "code",
   "execution_count": null,
   "id": "bfe3a833-1909-4859-adb1-cb34fb15fa99",
   "metadata": {},
   "outputs": [],
   "source": [
    "# Q1. Explain Class and Object with respect to Object-Oriented Programming.\n",
    "# Give a suitable example."
   ]
  },
  {
   "cell_type": "code",
   "execution_count": 1,
   "id": "8c69e1b4-9c76-4bfb-98ab-b0226d6b8c28",
   "metadata": {},
   "outputs": [],
   "source": [
    "# Answer 1:"
   ]
  },
  {
   "cell_type": "code",
   "execution_count": null,
   "id": "2b76f1a5-6523-434b-94e4-2e7c172649a2",
   "metadata": {},
   "outputs": [],
   "source": [
    "# A class is a code template for creating objects. Object have member variables and have\n",
    "# behaviour associated with them . In python a class is created by the keyword class.\n",
    "# An object is created using the constructor of the class . This object will then be called \n",
    "# the instance of the class.\n"
   ]
  },
  {
   "cell_type": "code",
   "execution_count": 8,
   "id": "31b4184f-c9d3-4a9d-9fce-0834d08a3774",
   "metadata": {},
   "outputs": [
    {
     "name": "stdout",
     "output_type": "stream",
     "text": [
      "hello\n"
     ]
    }
   ],
   "source": [
    "class a:\n",
    "    def __init__(self):\n",
    "        print(\"hello\")\n",
    "        return \n",
    "\n",
    "c=a()\n",
    "        "
   ]
  },
  {
   "cell_type": "code",
   "execution_count": null,
   "id": "e24e8ab5-7f0a-4fb2-a9e3-be6489df00fa",
   "metadata": {},
   "outputs": [],
   "source": [
    "# Q2. Name the four pillars of OOPs."
   ]
  },
  {
   "cell_type": "code",
   "execution_count": 2,
   "id": "af1023ad-d6cb-470d-81df-ace4e6716e55",
   "metadata": {},
   "outputs": [],
   "source": [
    "# Answer 2:"
   ]
  },
  {
   "cell_type": "code",
   "execution_count": null,
   "id": "a0f9089f-1b8a-443c-9e8b-1e140d9761b0",
   "metadata": {},
   "outputs": [],
   "source": [
    "the four pillars are:-\n",
    "inheritance,\n",
    "encapsulation,\n",
    "abstraction,\n",
    "polymorphism."
   ]
  },
  {
   "cell_type": "code",
   "execution_count": 3,
   "id": "793e8788-ab14-4ecc-9ede-24fbfc1b2dc1",
   "metadata": {},
   "outputs": [],
   "source": [
    "# Q3. Explain why the __init__() function is used. Give a suitable example."
   ]
  },
  {
   "cell_type": "code",
   "execution_count": null,
   "id": "76b555b9-3732-4bd9-a0c9-5d4246816c3b",
   "metadata": {},
   "outputs": [],
   "source": [
    "# Answer 3:"
   ]
  },
  {
   "cell_type": "code",
   "execution_count": null,
   "id": "6e9a92cb-31b7-42c3-8e8c-54b087c2f59f",
   "metadata": {},
   "outputs": [],
   "source": [
    "# All class have a fuction called __init__(),which is always executed when the class is being\n",
    "# initiated. the __init__() function to assign values to object properties, or other operations\n",
    "# that are necessary to do when the object is being created: "
   ]
  },
  {
   "cell_type": "code",
   "execution_count": 13,
   "id": "08b24d99-dbc5-438a-86b3-10f36c5cade3",
   "metadata": {},
   "outputs": [
    {
     "name": "stdout",
     "output_type": "stream",
     "text": [
      "munna kumar\n",
      "2134582\n"
     ]
    }
   ],
   "source": [
    "class student:\n",
    "    def __init__(self,name,roll_no):\n",
    "        self.name=name\n",
    "        self.roll_no=roll_no\n",
    "s1= student(\"munna kumar\",2134582)\n",
    "print(s1.name)\n",
    "print(s1.roll_no)"
   ]
  },
  {
   "cell_type": "code",
   "execution_count": 4,
   "id": "ae1a96c8-eec4-4852-aae5-4f1bb0a7f962",
   "metadata": {},
   "outputs": [],
   "source": [
    "# Q4. Why self is used in OOPs"
   ]
  },
  {
   "cell_type": "code",
   "execution_count": 5,
   "id": "7e236a9e-87a5-40f3-bb37-1f12015875cb",
   "metadata": {},
   "outputs": [],
   "source": [
    "# Answer 4:"
   ]
  },
  {
   "cell_type": "code",
   "execution_count": null,
   "id": "eb9b7beb-ccaf-419e-8b73-ec7adc6e4b45",
   "metadata": {},
   "outputs": [],
   "source": [
    "# the self parameter is a reference to the current instance of the class, and is used to \n",
    "# access variables that belongs to the class."
   ]
  },
  {
   "cell_type": "code",
   "execution_count": null,
   "id": "c9190cea-62c1-41a1-802c-253d5469db43",
   "metadata": {},
   "outputs": [],
   "source": [
    "# Q5. What is inheritance? Give an example for each type of inheritance"
   ]
  },
  {
   "cell_type": "code",
   "execution_count": null,
   "id": "5ed39d99-b107-48c9-aeb0-d365b8a9dc1c",
   "metadata": {},
   "outputs": [],
   "source": [
    "# Answer 5:"
   ]
  },
  {
   "cell_type": "code",
   "execution_count": 14,
   "id": "1abc8348-5385-4c83-8596-ca6059d8804f",
   "metadata": {},
   "outputs": [],
   "source": [
    "# Inheritance is a process of obtaining properties and characteristics(variables and methods)\n",
    "# of another class.In this hierarchical order , the class which inherits another class is called\n",
    "# subclass or child class and the other class is the parent class."
   ]
  },
  {
   "cell_type": "code",
   "execution_count": 15,
   "id": "3d8739f6-07b1-4476-9371-017475943128",
   "metadata": {},
   "outputs": [],
   "source": [
    "class a:\n",
    "    def hello(self):\n",
    "        print(\"example of inheritance\")\n",
    "class b(a):\n",
    "    pass\n",
    "\n",
    "c=b()"
   ]
  },
  {
   "cell_type": "code",
   "execution_count": 16,
   "id": "6845a731-8ea2-4022-b086-87dd59bad9d5",
   "metadata": {},
   "outputs": [
    {
     "name": "stdout",
     "output_type": "stream",
     "text": [
      "example of inheritance\n"
     ]
    }
   ],
   "source": [
    "c.hello()"
   ]
  },
  {
   "cell_type": "code",
   "execution_count": null,
   "id": "ceea2797-2276-4776-9bd8-4a961609fcb8",
   "metadata": {},
   "outputs": [],
   "source": []
  }
 ],
 "metadata": {
  "kernelspec": {
   "display_name": "Python 3 (ipykernel)",
   "language": "python",
   "name": "python3"
  },
  "language_info": {
   "codemirror_mode": {
    "name": "ipython",
    "version": 3
   },
   "file_extension": ".py",
   "mimetype": "text/x-python",
   "name": "python",
   "nbconvert_exporter": "python",
   "pygments_lexer": "ipython3",
   "version": "3.10.8"
  }
 },
 "nbformat": 4,
 "nbformat_minor": 5
}
